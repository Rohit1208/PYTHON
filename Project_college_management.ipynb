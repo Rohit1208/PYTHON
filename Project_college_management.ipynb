{
 "cells": [
  {
   "cell_type": "code",
   "execution_count": 28,
   "id": "9c0d61cc",
   "metadata": {},
   "outputs": [
    {
     "name": "stdout",
     "output_type": "stream",
     "text": [
      "<mysql.connector.connection_cext.CMySQLConnection object at 0x000001CC7E4FB9D0>\n"
     ]
    }
   ],
   "source": [
    "import mysql.connector as sql\n",
    "\n",
    "connection=sql.connect(host=\"localhost\",user=\"root\",password=\"Rohit@1997\",database=\"college_db\")\n",
    "print(connection)\n"
   ]
  },
  {
   "cell_type": "code",
   "execution_count": 2,
   "id": "83aa1c99",
   "metadata": {},
   "outputs": [],
   "source": [
    "cursor=connection.cursor()"
   ]
  },
  {
   "cell_type": "code",
   "execution_count": 3,
   "id": "733b4605",
   "metadata": {},
   "outputs": [],
   "source": [
    "cursor.execute(\"SHOW DATABASES\")"
   ]
  },
  {
   "cell_type": "code",
   "execution_count": 4,
   "id": "67cfa171",
   "metadata": {},
   "outputs": [
    {
     "name": "stdout",
     "output_type": "stream",
     "text": [
      "('college_db',)\n",
      "('company_db',)\n",
      "('information_schema',)\n",
      "('mysql',)\n",
      "('performance_schema',)\n",
      "('rohit_db',)\n",
      "('sakila',)\n",
      "('sys',)\n",
      "('thur_db',)\n",
      "('world',)\n"
     ]
    }
   ],
   "source": [
    "for i in cursor:\n",
    "    print(i)"
   ]
  },
  {
   "cell_type": "code",
   "execution_count": 5,
   "id": "e0c90645",
   "metadata": {},
   "outputs": [],
   "source": [
    "cursor.execute(\"USE college_db\")"
   ]
  },
  {
   "cell_type": "code",
   "execution_count": 6,
   "id": "2d6869cc",
   "metadata": {},
   "outputs": [],
   "source": [
    "import pandas as pd\n",
    "import numpy as np"
   ]
  },
  {
   "cell_type": "code",
   "execution_count": 29,
   "id": "9a2db8f6",
   "metadata": {},
   "outputs": [
    {
     "name": "stdout",
     "output_type": "stream",
     "text": [
      "############welcome to HOGWARDS UNIVERSITY########\n",
      "press 1.for new registration\n",
      "                already registered==>press \n",
      "                2.student login \n",
      "                3.parent login \n",
      "                4.teacher login\n",
      "                5.admin fees check \n",
      "                6.admin log in\n",
      "                23\n",
      "ENTER THE CORRECT OPTION\n"
     ]
    }
   ],
   "source": [
    "print(\"############welcome to HOGWARDS UNIVERSITY########\")\n",
    "a=int(input(\"\"\"press 1.for new registration\n",
    "                already registered==>press \n",
    "                2.student login \n",
    "                3.parent login \n",
    "                4.teacher login\n",
    "                5.admin fees check \n",
    "                6.admin log in\n",
    "                \"\"\"))\n",
    "\n",
    "\n",
    "\n",
    "class college:\n",
    "    \n",
    "    def student_new_reg(self):\n",
    "        x=int(input(\"Enter the stud_id\"))\n",
    "        y=input(\"Enter student name\")\n",
    "        z=input(\"Enter gender of student 'male'or'female'\")\n",
    "        a=input(\"D.o.B(yyyy|MM|DD)\")\n",
    "        b=input(\"Choose course 'data science','Django','machine learning'\")\n",
    "        c=int(input(\"press 0\"))\n",
    "        d=int(input(\"press 0\"))\n",
    "        e=int(input(\"press 0\"))\n",
    "        f=input(\"Enter parent mobile number\")\n",
    "        g=input(\"Parent name\")\n",
    "        i=input(\"Pay fees\")\n",
    "        h=input(\"\"\"Choose trainer 'data science'==>Miss.K.Aliya bhatta,\n",
    "                'Django'==>Miss.G.Katrina kaif,\n",
    "                'machine learning'==>Miss.R.Sonakshi sinha\"\"\")\n",
    "        query=(x,y,z,a,b,c,d,e,f,g,i,h)\n",
    "        new_reg=\"insert into Student values(%s,%s,%s,%s,%s,%s,%s,%s,%s,%s,%s,%s)\"\n",
    "        cursor=connection.cursor()\n",
    "        return cursor.execute(new_reg,query)\n",
    "    \n",
    "    \n",
    "    def student_view(self):\n",
    "        c=str(input(\"enter the course name\"))\n",
    "        i=int(input(\"enter student id\"))\n",
    "        stud_view=(c,i)\n",
    "        query=\"SELECT teacher.class_teacher_name,teacher.Assignment,teacher.test_date,First_test_marks,Second_test_marks,Third_test_marks FROM teacher,student WHERE teacher.course=%s AND stud_id=%s\"\n",
    "        college_db=pd.read_sql_query(query%(c,i,),connection)\n",
    "        return pd.read_sql_query(query%(c,i,),connection)\n",
    "    \n",
    "    def parent_view(self):\n",
    "        y=input(\"Enter your son\\daughter D.O.B 'YYYY-MM-DD'\")\n",
    "        z=str(input(\"Enter the course name==>'data science','Django','machine learning': \"))\n",
    "        x=int(input(\"Enter your son\\daughter I.D number  \"))\n",
    "\n",
    "        parent1_view=\"select stud_id , Name ,student.Course ,First_test_marks ,Second_test_marks ,Third_test_marks,fees_details,teacher.class_teacher_name,teacher.Qualification,teacher.Email_ID from student,teacher where  student.stud_id=%s and Birth_date=%s and teacher.course=%s\"\n",
    "        parent_view=pd.read_sql_query(parent1_view%(x,y,z,),connection)\n",
    "        return pd.read_sql_query(parent1_view%(x,y,z,),connection)\n",
    "    \n",
    "    \n",
    "    def teacher_view(self):\n",
    "        q=str(input(\"Enter the course name==>'data science','Django','machine learning': \"))\n",
    "        teacher_view=\"select * from student where student.course=%s\"\n",
    "        teacher_view_allstud=pd.read_sql_query(teacher_view%(q,),connection)\n",
    "        return pd.read_sql_query(teacher_view%(q,),connection)\n",
    "    def admin_studfees_view(self):\n",
    "        d=input(\"To check fees paid details of student enter 'not paid' or' paid fully'\")\n",
    "        admin_view=\"select * from student where fees_details =%s\"\n",
    "        fees_details=pd.read_sql_query(admin_view%(d,),connection)\n",
    "        \n",
    "        return pd.read_sql_query(admin_view%(d,),connection)\n",
    "   \n",
    "        \n",
    "        \n",
    "class management:\n",
    "    \n",
    "    def __init__(self):\n",
    "            self.__admin_management_view()\n",
    "            \n",
    "            \n",
    "            \n",
    "        \n",
    "    def __admin_management_view(self):\n",
    "       \n",
    "        teacher_view=\"select * from student\"\n",
    "        teacher_view_allstud=pd.read_sql_query(teacher_view,connection)\n",
    "        return pd.read_sql_query(teacher_view,connection)\n",
    "           \n",
    "        \n",
    "    \n",
    "c=college()\n",
    "\n",
    "c1=management()\n",
    "\n",
    "\n",
    "if a==6:\n",
    "    b=int(input(\"ENTER THE PASSWORD:\"))\n",
    "    if b==12345:\n",
    "        print(c1._management__admin_management_view())\n",
    "    else:\n",
    "        print(\"password is wrong\")\n",
    "    \n",
    "elif a==2:\n",
    "    print(c.student_view())    \n",
    "elif a==3:\n",
    "    print(c.parent_view())\n",
    "elif a==4:\n",
    "    print(c.teacher_view())\n",
    "elif a==5:\n",
    "    print(c.admin_studfees_view())\n",
    "elif a==1:\n",
    "    print(c.student_new_reg())\n",
    "    \n",
    "    \n",
    "   \n",
    "        \n",
    "            \n",
    "    \n",
    "else:\n",
    "    print(\"ENTER THE CORRECT OPTION\")\n"
   ]
  },
  {
   "cell_type": "code",
   "execution_count": null,
   "id": "c9a2d064",
   "metadata": {},
   "outputs": [],
   "source": [
    "2222 1990-06-11 Django"
   ]
  },
  {
   "cell_type": "code",
   "execution_count": null,
   "id": "d437f205",
   "metadata": {},
   "outputs": [],
   "source": []
  }
 ],
 "metadata": {
  "kernelspec": {
   "display_name": "Python 3",
   "language": "python",
   "name": "python3"
  },
  "language_info": {
   "codemirror_mode": {
    "name": "ipython",
    "version": 3
   },
   "file_extension": ".py",
   "mimetype": "text/x-python",
   "name": "python",
   "nbconvert_exporter": "python",
   "pygments_lexer": "ipython3",
   "version": "3.9.1"
  }
 },
 "nbformat": 4,
 "nbformat_minor": 5
}
