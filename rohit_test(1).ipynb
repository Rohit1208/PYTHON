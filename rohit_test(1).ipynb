{
  "nbformat": 4,
  "nbformat_minor": 0,
  "metadata": {
    "colab": {
      "name": "rohit_test.ipynb",
      "provenance": [],
      "collapsed_sections": []
    },
    "kernelspec": {
      "name": "python3",
      "display_name": "Python 3"
    },
    "language_info": {
      "name": "python"
    }
  },
  "cells": [
    {
      "cell_type": "code",
      "metadata": {
        "id": "TU7R6bWt_dr0"
      },
      "source": [
        ""
      ],
      "execution_count": null,
      "outputs": []
    },
    {
      "cell_type": "markdown",
      "metadata": {
        "id": "U3lJxvPN_eR-"
      },
      "source": [
        "Write a Python class named Circle constructed by a radius and two methods which will compute the area and the perimeter of a circle."
      ]
    },
    {
      "cell_type": "code",
      "metadata": {
        "id": "tSQR6_wY_QTg",
        "colab": {
          "base_uri": "https://localhost:8080/"
        },
        "outputId": "cab4328c-1632-43a1-d121-663b6d3f7bb2"
      },
      "source": [
        "d=int(input(\"enter the diameter..\"  ))\n",
        "r=d/2\n",
        "print(\"the radius of circle..\",r)\n",
        "\n",
        "class circle:\n",
        "\n",
        "  def __init__(self, radius):\n",
        "    self.radius=radius\n",
        "    \n",
        "\n",
        "  def area(self):\n",
        "     A=3.14*r*r\n",
        "     return print(\"the area of cirlce...\",A ,\"cm2\")\n",
        "     \n",
        "  def perimeter(self):\n",
        "    P=2*3.14*r\n",
        "    return print(\"the perimeter of circle..\",P,\"cm2\")\n",
        "\n",
        "x = circle(r)  \n",
        "\n",
        "x.area()\n",
        "x.perimeter()\n"
      ],
      "execution_count": null,
      "outputs": [
        {
          "output_type": "stream",
          "text": [
            "enter the diameter..10\n",
            "the radius of circle.. 5.0\n",
            "the area of cirlce... 78.5 cm2\n",
            "the perimeter of circle.. 31.400000000000002 cm2\n"
          ],
          "name": "stdout"
        }
      ]
    },
    {
      "cell_type": "markdown",
      "metadata": {
        "id": "-1wSuTONNi5X"
      },
      "source": [
        "Display all duplicate items from a list, sample_list = [10, 20, 60, 30, 20, 40, 30, 60, 70, 80]\n"
      ]
    },
    {
      "cell_type": "code",
      "metadata": {
        "id": "yluoU5_mNkLB"
      },
      "source": [
        " sample_list = [10, 20, 60, 30, 20, 40, 30, 60, 70, 80]"
      ],
      "execution_count": null,
      "outputs": []
    },
    {
      "cell_type": "code",
      "metadata": {
        "id": "4mjyoqRGWNcD"
      },
      "source": [
        "x = sample_list \n",
        "y = []"
      ],
      "execution_count": null,
      "outputs": []
    },
    {
      "cell_type": "code",
      "metadata": {
        "colab": {
          "base_uri": "https://localhost:8080/"
        },
        "id": "ofXOTVXfWaoA",
        "outputId": "45850ec2-7b30-4714-dc9e-b34eee04c43c"
      },
      "source": [
        "for i in x: \n",
        "\n",
        " if i not in y :\n",
        "  y.append(i)\n",
        " else:\n",
        "  print(i)\n"
      ],
      "execution_count": null,
      "outputs": [
        {
          "output_type": "stream",
          "text": [
            "20\n",
            "30\n",
            "60\n",
            "0\n",
            "0\n",
            "0\n"
          ],
          "name": "stdout"
        }
      ]
    },
    {
      "cell_type": "markdown",
      "metadata": {
        "id": "6Z6XWFfOd8K0"
      },
      "source": [
        "Create a class Bank Account and create methods to depict: 1. Withdrawal and 2. Deposits operations. You may take \"amount\" as an attribute and initialize it. Create two objects and check for each methods."
      ]
    },
    {
      "cell_type": "code",
      "metadata": {
        "colab": {
          "base_uri": "https://localhost:8080/"
        },
        "id": "uRQtYz6Ad-Yx",
        "outputId": "6714e617-3143-414b-ca95-494fa919db40"
      },
      "source": [
        "a=int(input(\"\"\"choose the operation... \n",
        " 1.deposit\n",
        " 2.withdrawal\n",
        " 3.balance inquiry\n",
        " dont enter anyother number it will scold u\n",
        " govt act 2016 u can withdraw within Rs 10000\n",
        " \"\"\"))\n",
        "\n",
        "\n",
        "\n",
        "\n",
        "class bank:\n",
        "\n",
        "  \n",
        "  def __init__(self,amount):\n",
        "    self.amount=10000\n",
        "\n",
        "  def withdrawal(self):\n",
        "    w = int(input(\"enter the amount..\"))\n",
        "    B = 10000-w\n",
        "    return print(\"collect the cash ...RS\",w,\"balance..\",B)\n",
        "\n",
        "  def deposit(self):\n",
        "    G = int(input(\"enter the amount to deposit..\"))\n",
        "    D=G+10000\n",
        "\n",
        "    return print(\"balance amount is ...\",D,\"Rs\")\n",
        "\n",
        "  def balance(self):\n",
        "    return print(\"balance amount is ...\",10000,\"Rs\")\n",
        "\n",
        "\n",
        "\n",
        " \n",
        "x = bank(10000)\n",
        "\n",
        "\n",
        "if a==1:\n",
        "  print(x.deposit())\n",
        "\n",
        "elif a==2:\n",
        "  print(x.withdrawal())\n",
        "\n",
        "elif a==3:\n",
        "  print(x.balance())\n",
        "\n",
        "else:\n",
        "  print(\"arey idiot dont try smart enter the correct option\")\n",
        "\n",
        "\n",
        "  "
      ],
      "execution_count": 1,
      "outputs": [
        {
          "output_type": "stream",
          "text": [
            "choose the operation... \n",
            " 1.deposit\n",
            " 2.withdrawal\n",
            " 3.balance inquiry\n",
            " dont enter anyother number it will scold u\n",
            " govt act 2016 u can withdraw within Rs 10000\n",
            " 2\n",
            "enter the amount..5000\n",
            "collect the cash ...RS 5000 balance.. 5000\n",
            "None\n"
          ],
          "name": "stdout"
        }
      ]
    }
  ]
}