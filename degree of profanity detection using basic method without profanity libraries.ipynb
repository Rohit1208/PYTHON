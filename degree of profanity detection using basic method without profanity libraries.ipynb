{
  "nbformat": 4,
  "nbformat_minor": 0,
  "metadata": {
    "colab": {
      "name": "Untitled10.ipynb",
      "provenance": [],
      "collapsed_sections": [],
      "authorship_tag": "ABX9TyMv3G/lWQ8O7X9VtLt312yk",
      "include_colab_link": true
    },
    "kernelspec": {
      "name": "python3",
      "display_name": "Python 3"
    },
    "language_info": {
      "name": "python"
    }
  },
  "cells": [
    {
      "cell_type": "markdown",
      "metadata": {
        "id": "view-in-github",
        "colab_type": "text"
      },
      "source": [
        "<a href=\"https://colab.research.google.com/github/Rohit1208/PYTHON/blob/main/degree%20of%20profanity%20detection%20using%20basic%20method%20without%20profanity%20libraries.ipynb\" target=\"_parent\"><img src=\"https://colab.research.google.com/assets/colab-badge.svg\" alt=\"Open In Colab\"/></a>"
      ]
    },
    {
      "cell_type": "code",
      "metadata": {
        "id": "I61IPTynHotI"
      },
      "source": [
        "\n"
      ],
      "execution_count": 11,
      "outputs": []
    },
    {
      "cell_type": "code",
      "metadata": {
        "colab": {
          "base_uri": "https://localhost:8080/"
        },
        "id": "_U4mIT3oArKj",
        "outputId": "8ba09cf5-1f08-4c98-8dd4-95c80ed80d70"
      },
      "source": [
        "a={'fuck','black' ,'guy'}#add racial slur words from browser\n",
        "b=input(\"enter the tweet..\")\n",
        "c=set(b.split())\n",
        "d = c.intersection(a)\n",
        "\n",
        "x=len(d)\n",
        "if x==0:\n",
        "  print(b)\n",
        "else:\n",
        "  print(\"censored  twitter content\")\n"
      ],
      "execution_count": 31,
      "outputs": [
        {
          "output_type": "stream",
          "text": [
            "enter the tweet..he is black guy\n",
            "censored  twitter content\n"
          ],
          "name": "stdout"
        }
      ]
    },
    {
      "cell_type": "code",
      "metadata": {
        "id": "BSZDykO-E10j"
      },
      "source": [
        ""
      ],
      "execution_count": 31,
      "outputs": []
    },
    {
      "cell_type": "code",
      "metadata": {
        "id": "wmBxdnkmDs2N"
      },
      "source": [
        ""
      ],
      "execution_count": null,
      "outputs": []
    },
    {
      "cell_type": "code",
      "metadata": {
        "id": "NOFEwT1vDdPK"
      },
      "source": [
        "\n"
      ],
      "execution_count": 31,
      "outputs": []
    },
    {
      "cell_type": "code",
      "metadata": {
        "colab": {
          "base_uri": "https://localhost:8080/"
        },
        "id": "cr6St4CkFD1Q",
        "outputId": "c8b2705a-facb-49d8-8f58-5097aecbadf8"
      },
      "source": [
        "b=input(\"enter the tweet...\")"
      ],
      "execution_count": 6,
      "outputs": [
        {
          "output_type": "stream",
          "text": [
            "enter the tweet...blue\n"
          ],
          "name": "stdout"
        }
      ]
    },
    {
      "cell_type": "code",
      "metadata": {
        "colab": {
          "base_uri": "https://localhost:8080/"
        },
        "id": "yT1SERx1FTJy",
        "outputId": "04aa76cf-4478-4c79-97a1-4189304a7db1"
      },
      "source": [
        "if b in a:\n",
        "  print(\"strictly prohibted\")\n",
        "else:\n",
        "  print(b)"
      ],
      "execution_count": 8,
      "outputs": [
        {
          "output_type": "stream",
          "text": [
            "blue\n"
          ],
          "name": "stdout"
        }
      ]
    }
  ]
}